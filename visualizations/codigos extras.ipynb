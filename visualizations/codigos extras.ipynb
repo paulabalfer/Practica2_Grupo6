{
 "cells": [
  {
   "cell_type": "markdown",
   "id": "83deee06",
   "metadata": {},
   "source": [
    "Generación de imagen (posterior recorte nuestro)"
   ]
  },
  {
   "cell_type": "code",
   "execution_count": null,
   "id": "8af170c4",
   "metadata": {
    "vscode": {
     "languageId": "plaintext"
    }
   },
   "outputs": [],
   "source": [
    "import folium\n",
    "import io\n",
    "from selenium import webdriver\n",
    "from selenium.webdriver.chrome.options import Options\n",
    "from PIL import Image\n",
    "import time\n",
    "import os\n",
    "\n",
    "\n",
    "# Crear el mapa centrado en Madrid\n",
    "mapa = folium.Map(location=[40.43, -3.7], zoom_start=13)\n",
    "\n",
    "# Obtener pares únicos de coordenadas\n",
    "coordenadas_unicas = data.drop_duplicates(subset=['latitud_x', 'longitud_x'])\n",
    "\n",
    "# Añadir marcadores para cada par único\n",
    "for idx, row in coordenadas_unicas.iterrows():\n",
    "    folium.Marker(\n",
    "        [row['latitud_x'], row['longitud_x']],\n",
    "        popup=f\"Lat: {row['latitud_x']}, Lon: {row['longitud_x']}\"\n",
    "    ).add_to(mapa)\n",
    "\n",
    "# Guardar HTML temporal\n",
    "html_file = 'mapa_estaciones.html'\n",
    "mapa.save(html_file)\n",
    "\n",
    "# Opciones para Selenium\n",
    "options = Options()\n",
    "options.add_argument('--headless')\n",
    "options.add_argument('--window-size=800,600')\n",
    "options.add_argument('--disable-gpu')\n",
    "options.add_argument('--no-sandbox')\n",
    "\n",
    "# Ruta absoluta del archivo HTML\n",
    "html_path = 'file://' + os.path.abspath(html_file)\n",
    "\n",
    "# Iniciar Selenium\n",
    "try:\n",
    "    driver = webdriver.Chrome(options=options)\n",
    "except Exception as e:\n",
    "    print(\"Error iniciando ChromeDriver:\", e)\n",
    "    print(\"Asegúrate de tener chromedriver instalado y en el PATH.\")\n",
    "    exit()\n",
    "\n",
    "driver.get(html_path)\n",
    "time.sleep(5)  # Espera para que el mapa cargue completamente\n",
    "\n",
    "# Captura de pantalla\n",
    "screenshot = driver.get_screenshot_as_png()\n",
    "driver.quit()\n",
    "\n",
    "# Guardar como JPG\n",
    "image = Image.open(io.BytesIO(screenshot))\n",
    "image = image.convert('RGB')  # Asegura formato JPG\n",
    "image.save('mapa_estaciones.jpg', 'JPEG')\n",
    "\n",
    "print('Mapa guardado como mapa_estaciones.jpg')"
   ]
  }
 ],
 "metadata": {
  "language_info": {
   "name": "python"
  }
 },
 "nbformat": 4,
 "nbformat_minor": 5
}
