{
  "cells": [
    {
      "cell_type": "code",
      "execution_count": 1,
      "metadata": {
        "id": "Ljuvbqw2J2MP"
      },
      "outputs": [],
      "source": [
        "import pandas as pd"
      ]
    },
    {
      "cell_type": "code",
      "execution_count": 2,
      "metadata": {
        "id": "fyJq7O3aISCz"
      },
      "outputs": [],
      "source": [
        "df = pd.read_csv('../data/access/trafico_horario_access.csv')"
      ]
    },
    {
      "cell_type": "code",
      "execution_count": 3,
      "metadata": {
        "colab": {
          "base_uri": "https://localhost:8080/"
        },
        "id": "as7SQLCEKOG1",
        "outputId": "96b280c8-60a0-460f-96a8-577e84e0c932"
      },
      "outputs": [
        {
          "name": "stdout",
          "output_type": "stream",
          "text": [
            "A las 8:00 horas, predominan los coches.\n",
            "A las 9:00 horas, predominan los coches.\n",
            "A las 18:00 horas, predominan los coches.\n"
          ]
        }
      ],
      "source": [
        "mayor_congestion = df[df['nivel_congestion'] == 'Muy Alta']\n",
        "\n",
        "for _, fila in mayor_congestion.iterrows():\n",
        "    hora = fila['hora']\n",
        "    vehiculo = fila['vehiculo_predominante']\n",
        "    print(f\"A las {hora}:00 horas, predominan los {vehiculo}.\")\n"
      ]
    }
  ],
  "metadata": {
    "colab": {
      "provenance": []
    },
    "kernelspec": {
      "display_name": "Python 3",
      "name": "python3"
    },
    "language_info": {
      "codemirror_mode": {
        "name": "ipython",
        "version": 3
      },
      "file_extension": ".py",
      "mimetype": "text/x-python",
      "name": "python",
      "nbconvert_exporter": "python",
      "pygments_lexer": "ipython3",
      "version": "3.12.10"
    }
  },
  "nbformat": 4,
  "nbformat_minor": 0
}
