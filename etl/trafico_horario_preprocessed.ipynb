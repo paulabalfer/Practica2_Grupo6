{
  "cells": [
    {
      "cell_type": "code",
      "execution_count": 26,
      "metadata": {
        "id": "T5vBZlae5rYl"
      },
      "outputs": [],
      "source": [
        "import pandas as pd"
      ]
    },
    {
      "cell_type": "code",
      "execution_count": 27,
      "metadata": {
        "id": "AD2YBBLT6KYT"
      },
      "outputs": [
        {
          "data": {
            "text/html": [
              "<div>\n",
              "<style scoped>\n",
              "    .dataframe tbody tr th:only-of-type {\n",
              "        vertical-align: middle;\n",
              "    }\n",
              "\n",
              "    .dataframe tbody tr th {\n",
              "        vertical-align: top;\n",
              "    }\n",
              "\n",
              "    .dataframe thead th {\n",
              "        text-align: right;\n",
              "    }\n",
              "</style>\n",
              "<table border=\"1\" class=\"dataframe\">\n",
              "  <thead>\n",
              "    <tr style=\"text-align: right;\">\n",
              "      <th></th>\n",
              "      <th>sensor_id</th>\n",
              "      <th>fecha_hora</th>\n",
              "      <th>total_vehiculos</th>\n",
              "      <th>coches</th>\n",
              "      <th>motos</th>\n",
              "      <th>camiones</th>\n",
              "      <th>buses</th>\n",
              "      <th>velocidad_media_kmh</th>\n",
              "      <th>nivel_congestion</th>\n",
              "    </tr>\n",
              "  </thead>\n",
              "  <tbody>\n",
              "    <tr>\n",
              "      <th>0</th>\n",
              "      <td>1</td>\n",
              "      <td>2024-12-01 00:00:00</td>\n",
              "      <td>432</td>\n",
              "      <td>324</td>\n",
              "      <td>26</td>\n",
              "      <td>73</td>\n",
              "      <td>9</td>\n",
              "      <td>65</td>\n",
              "      <td>Baja</td>\n",
              "    </tr>\n",
              "    <tr>\n",
              "      <th>1</th>\n",
              "      <td>1</td>\n",
              "      <td>2024-12-01 01:00:00</td>\n",
              "      <td>287</td>\n",
              "      <td>215</td>\n",
              "      <td>17</td>\n",
              "      <td>49</td>\n",
              "      <td>6</td>\n",
              "      <td>72</td>\n",
              "      <td>Baja</td>\n",
              "    </tr>\n",
              "    <tr>\n",
              "      <th>2</th>\n",
              "      <td>1</td>\n",
              "      <td>2024-12-01 02:00:00</td>\n",
              "      <td>184</td>\n",
              "      <td>138</td>\n",
              "      <td>11</td>\n",
              "      <td>31</td>\n",
              "      <td>4</td>\n",
              "      <td>78</td>\n",
              "      <td>Baja</td>\n",
              "    </tr>\n",
              "    <tr>\n",
              "      <th>3</th>\n",
              "      <td>1</td>\n",
              "      <td>2024-12-01 03:00:00</td>\n",
              "      <td>127</td>\n",
              "      <td>95</td>\n",
              "      <td>8</td>\n",
              "      <td>21</td>\n",
              "      <td>3</td>\n",
              "      <td>82</td>\n",
              "      <td>Baja</td>\n",
              "    </tr>\n",
              "    <tr>\n",
              "      <th>4</th>\n",
              "      <td>1</td>\n",
              "      <td>2024-12-01 04:00:00</td>\n",
              "      <td>145</td>\n",
              "      <td>109</td>\n",
              "      <td>9</td>\n",
              "      <td>25</td>\n",
              "      <td>2</td>\n",
              "      <td>80</td>\n",
              "      <td>Baja</td>\n",
              "    </tr>\n",
              "  </tbody>\n",
              "</table>\n",
              "</div>"
            ],
            "text/plain": [
              "   sensor_id           fecha_hora  total_vehiculos  coches  motos  camiones  \\\n",
              "0          1  2024-12-01 00:00:00              432     324     26        73   \n",
              "1          1  2024-12-01 01:00:00              287     215     17        49   \n",
              "2          1  2024-12-01 02:00:00              184     138     11        31   \n",
              "3          1  2024-12-01 03:00:00              127      95      8        21   \n",
              "4          1  2024-12-01 04:00:00              145     109      9        25   \n",
              "\n",
              "   buses  velocidad_media_kmh nivel_congestion  \n",
              "0      9                   65             Baja  \n",
              "1      6                   72             Baja  \n",
              "2      4                   78             Baja  \n",
              "3      3                   82             Baja  \n",
              "4      2                   80             Baja  "
            ]
          },
          "execution_count": 27,
          "metadata": {},
          "output_type": "execute_result"
        }
      ],
      "source": [
        "df = pd.read_csv('../data/raw/trafico-horario.csv')\n",
        "df.head()  # Para ver las primeras filas"
      ]
    },
    {
      "cell_type": "code",
      "execution_count": 28,
      "metadata": {
        "colab": {
          "base_uri": "https://localhost:8080/",
          "height": 53
        },
        "id": "tvUVXSmd6Ydp",
        "outputId": "52853d50-ee89-4267-bad0-9328621dcdc3"
      },
      "outputs": [],
      "source": [
        "# Eliminar duplicados en caso de que haya\n",
        "df = df.drop_duplicates()"
      ]
    },
    {
      "cell_type": "code",
      "execution_count": 29,
      "metadata": {
        "colab": {
          "base_uri": "https://localhost:8080/",
          "height": 366
        },
        "id": "PaKiE_S06WR3",
        "outputId": "39683d43-e319-40b5-f8a3-6d50f325d011"
      },
      "outputs": [],
      "source": [
        "# Si hay nulos eliminar el registro\n",
        "df_sin_nulos = df.dropna()"
      ]
    },
    {
      "cell_type": "code",
      "execution_count": 30,
      "metadata": {
        "id": "ocDqUXtY6b1m"
      },
      "outputs": [],
      "source": [
        "# Asegurar que fecha_hora está en formato datetime\n",
        "df['fecha_hora'] = pd.to_datetime(df['fecha_hora'])"
      ]
    },
    {
      "cell_type": "code",
      "execution_count": 31,
      "metadata": {
        "id": "8k-Ie82K6fSK"
      },
      "outputs": [],
      "source": [
        "# Separa en columna fecha y hora\n",
        "df['fecha'] = df['fecha_hora'].dt.date\n",
        "\n",
        "df['hora'] = df['fecha_hora'].dt.hour\n",
        "\n",
        "df = df.drop(columns=['fecha_hora'])"
      ]
    },
    {
      "cell_type": "code",
      "execution_count": 32,
      "metadata": {
        "id": "0M3qTxv26hGd"
      },
      "outputs": [],
      "source": [
        "df.to_csv('../data/processed/trafico_horario_processed.csv', index=True)"
      ]
    }
  ],
  "metadata": {
    "colab": {
      "provenance": []
    },
    "kernelspec": {
      "display_name": "Python 3",
      "name": "python3"
    },
    "language_info": {
      "codemirror_mode": {
        "name": "ipython",
        "version": 3
      },
      "file_extension": ".py",
      "mimetype": "text/x-python",
      "name": "python",
      "nbconvert_exporter": "python",
      "pygments_lexer": "ipython3",
      "version": "3.12.10"
    }
  },
  "nbformat": 4,
  "nbformat_minor": 0
}
